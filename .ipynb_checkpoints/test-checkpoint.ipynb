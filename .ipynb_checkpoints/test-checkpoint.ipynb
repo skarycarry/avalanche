{
 "cells": [
  {
   "cell_type": "code",
   "execution_count": 1,
   "metadata": {},
   "outputs": [],
   "source": [
    "import requests\n",
    "import pandas as pd\n",
    "import os\n",
    "import json\n",
    "import ast"
   ]
  },
  {
   "cell_type": "code",
   "execution_count": 2,
   "metadata": {},
   "outputs": [],
   "source": [
    "df = pd.read_csv('data/inputs/ratings_data.csv')\n",
    "\n",
    "exceptions = [\"Bottom Line\",\"Discussion\"]\n",
    "\n",
    "with open('output.txt', 'w') as f:\n",
    "    # iterate over each column in the DataFrame\n",
    "    for col in df.columns:\n",
    "        if col in exceptions:\n",
    "            continue\n",
    "        # check if the column contains lists\n",
    "        items = set()\n",
    "        # iterate over each element in the column\n",
    "        for elem in df[col]:\n",
    "            # check if the element is a string that looks like a list\n",
    "            if isinstance(elem, str) and elem.startswith('[') and elem.endswith(']'):\n",
    "                # use ast.literal_eval() to safely evaluate the string as a list\n",
    "                elem = ast.literal_eval(elem)\n",
    "            # if the element is a list, iterate over each item in the list\n",
    "            if isinstance(elem, list):\n",
    "                for item in elem:\n",
    "                    # add unique items to the set\n",
    "                    items.add(item)\n",
    "            # if the element is not a list, add it directly to the set\n",
    "            else:\n",
    "                items.add(elem)\n",
    "        # write the unique items to the file\n",
    "        f.write(f\"{col} {list(items)}\\n\")\n"
   ]
  },
  {
   "cell_type": "code",
   "execution_count": 4,
   "metadata": {},
   "outputs": [],
   "source": [
    "df = pd.read_csv('data/WeatherStations/weather/2020_01_02_12.csv')\n",
    "\n",
    "with open('data/inputs/weather_vals.txt', 'w') as f:\n",
    "    for col in [\"Provider\",\"Range\"]:\n",
    "        items = set()\n",
    "        for elem in df[col]:\n",
    "            items.add(elem.replace(u'\\xa0', u''))\n",
    "        f.write(f\"{col} {list(items)}\\n\")"
   ]
  },
  {
   "cell_type": "code",
   "execution_count": null,
   "metadata": {},
   "outputs": [],
   "source": []
  }
 ],
 "metadata": {
  "kernelspec": {
   "display_name": "Python 3 (ipykernel)",
   "language": "python",
   "name": "python3"
  },
  "language_info": {
   "codemirror_mode": {
    "name": "ipython",
    "version": 3
   },
   "file_extension": ".py",
   "mimetype": "text/x-python",
   "name": "python",
   "nbconvert_exporter": "python",
   "pygments_lexer": "ipython3",
   "version": "3.11.3"
  },
  "vscode": {
   "interpreter": {
    "hash": "0527f4746b185f5e20a73a2a7d6495a7c8b77383ce06d2afb131af4dd5acf0e2"
   }
  }
 },
 "nbformat": 4,
 "nbformat_minor": 2
}
